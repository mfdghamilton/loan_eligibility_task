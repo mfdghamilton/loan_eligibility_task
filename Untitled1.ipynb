{
 "cells": [
  {
   "cell_type": "code",
   "execution_count": 1,
   "id": "0fc64a35-e1fa-44ce-b1eb-f56b59f07ed3",
   "metadata": {},
   "outputs": [
    {
     "name": "stdout",
     "output_type": "stream",
     "text": [
      "   loan_amount  applicant_income  coapplicant_income  loan_term  age  \\\n",
      "0         8431              6132                9994         24   21   \n",
      "1        22542              2195                5335         12   62   \n",
      "2        10713             18202                7286        180   43   \n",
      "3        31688             13252                1714        180   44   \n",
      "4        22468              6008                9770        180   49   \n",
      "\n",
      "  employment_type     education married property_area  loan_status  \n",
      "0   Self-Employed      Graduate     Yes         Urban            0  \n",
      "1   Self-Employed  Not Graduate     Yes         Rural            0  \n",
      "2      Unemployed  Not Graduate     Yes         Urban            1  \n",
      "3        Salaried  Not Graduate      No         Rural            1  \n",
      "4      Unemployed      Graduate     Yes         Rural            0  \n"
     ]
    }
   ],
   "source": [
    "import pandas as pd\n",
    "\n",
    "# Load dataset\n",
    "data = pd.read_csv(\"loan_data.csv\")\n",
    "\n",
    "print(data.head())"
   ]
  },
  {
   "cell_type": "code",
   "execution_count": 2,
   "id": "2d328193-adf1-49ca-bc38-8f10b90c9c9e",
   "metadata": {},
   "outputs": [
    {
     "name": "stdout",
     "output_type": "stream",
     "text": [
      "<class 'pandas.core.frame.DataFrame'>\n",
      "RangeIndex: 250 entries, 0 to 249\n",
      "Data columns (total 10 columns):\n",
      " #   Column              Non-Null Count  Dtype \n",
      "---  ------              --------------  ----- \n",
      " 0   loan_amount         250 non-null    int64 \n",
      " 1   applicant_income    250 non-null    int64 \n",
      " 2   coapplicant_income  250 non-null    int64 \n",
      " 3   loan_term           250 non-null    int64 \n",
      " 4   age                 250 non-null    int64 \n",
      " 5   employment_type     250 non-null    object\n",
      " 6   education           250 non-null    object\n",
      " 7   married             250 non-null    object\n",
      " 8   property_area       250 non-null    object\n",
      " 9   loan_status         250 non-null    int64 \n",
      "dtypes: int64(6), object(4)\n",
      "memory usage: 19.7+ KB\n",
      "None\n"
     ]
    }
   ],
   "source": [
    "import pandas as pd\n",
    "\n",
    "# Load dataset\n",
    "data = pd.read_csv(\"loan_data.csv\")\n",
    "\n",
    "print(data.info())"
   ]
  },
  {
   "cell_type": "code",
   "execution_count": 80,
   "id": "983f9897-7aa8-409b-8592-7f6a2e6ebb5a",
   "metadata": {},
   "outputs": [
    {
     "name": "stdout",
     "output_type": "stream",
     "text": [
      "✅ Model trained with accuracy: 0.76\n"
     ]
    }
   ],
   "source": [
    "import pandas as pd\n",
    "from sklearn.model_selection import train_test_split\n",
    "from sklearn.linear_model import LogisticRegression\n",
    "from sklearn.metrics import accuracy_score\n",
    "import joblib\n",
    "\n",
    "# Load dataset\n",
    "data = pd.read_csv(\"loan_data.csv\")\n",
    "\n",
    "# Map categorical feature to integers\n",
    "data[\"employment_type\"] = data[\"employment_type\"].map({\"Unemployed\": 0, \"Self-Employed\": 1, \"Salaried\": 2})\n",
    "data[\"education\"] = data[\"education\"].map({\"Not Graduate\": 0, \"Graduate\": 1})\n",
    "data[\"married\"] = data[\"married\"].map({\"No\": 0, \"Yes\": 1})\n",
    "data[\"property_area\"] = data[\"property_area\"].map({\"Rural\": 0, \"Semiurban\": 1, \"Urban\": 2})\n",
    "\n",
    "# Features and target\n",
    "feature_columns = [\"loan_amount\", \"applicant_income\", \"coapplicant_income\", \"loan_term\", \"age\", \"employment_type\", \"education\", \"married\", \"property_area\"]\n",
    "\n",
    "X = data[feature_columns]\n",
    "y = data[\"loan_status\"]\n",
    "\n",
    "# Train-test split\n",
    "X_train, X_test, y_train, y_test = train_test_split(X, y, test_size=0.2, random_state=42)\n",
    "\n",
    "# Model training\n",
    "model = LogisticRegression(max_iter=100)\n",
    "model.fit(X_train, y_train)\n",
    "\n",
    "# Evaluate model\n",
    "y_pred = model.predict(X_test)\n",
    "accuracy = accuracy_score(y_test, y_pred)\n",
    "print(f\"✅ Model trained with accuracy: {accuracy:.2f}\")"
   ]
  },
  {
   "cell_type": "code",
   "execution_count": 74,
   "id": "050e1421-b392-484e-965c-3295cc335078",
   "metadata": {},
   "outputs": [
    {
     "name": "stdout",
     "output_type": "stream",
     "text": [
      "✅ Model trained with accuracy: 0.76\n"
     ]
    }
   ],
   "source": [
    "import pandas as pd\n",
    "from sklearn.model_selection import train_test_split\n",
    "from sklearn.linear_model import LogisticRegression\n",
    "from sklearn.metrics import accuracy_score\n",
    "import joblib\n",
    "from sklearn.preprocessing import StandardScaler\n",
    "\n",
    "# Load dataset\n",
    "data = pd.read_csv(\"loan_data.csv\")\n",
    "\n",
    "# Map categorical feature to integers\n",
    "data[\"employment_type\"] = data[\"employment_type\"].map({\"Unemployed\": 0, \"Self-Employed\": 1, \"Salaried\": 2})\n",
    "data[\"education\"] = data[\"education\"].map({\"Not Graduate\": 0, \"Graduate\": 1})\n",
    "data[\"married\"] = data[\"married\"].map({\"No\": 0, \"Yes\": 1})\n",
    "data[\"property_area\"] = data[\"property_area\"].map({\"Rural\": 0, \"Semiurban\": 1, \"Urban\": 2})\n",
    "\n",
    "# Features and target\n",
    "feature_columns = [\"loan_amount\", \"applicant_income\", \"coapplicant_income\", \"loan_term\", \"age\", \"employment_type\", \"education\", \"married\", \"property_area\"]\n",
    "\n",
    "X = data[feature_columns]\n",
    "y = data[\"loan_status\"]\n",
    "\n",
    "# Train-test split\n",
    "X_train, X_test, y_train, y_test = train_test_split(X, y, test_size=0.2, random_state=42)\n",
    "\n",
    "scaler = StandardScaler()\n",
    "X_train = scaler.fit_transform(X_train)\n",
    "X_test = scaler.transform(X_test)\n",
    "\n",
    "# Model training\n",
    "model = LogisticRegression(max_iter=100)\n",
    "model.fit(X_train, y_train)\n",
    "\n",
    "# Evaluate model\n",
    "y_pred = model.predict(X_test)\n",
    "accuracy = accuracy_score(y_test, y_pred)\n",
    "print(f\"✅ Model trained with accuracy: {accuracy:.2f}\")"
   ]
  },
  {
   "cell_type": "code",
   "execution_count": 73,
   "id": "f924fe3d-bc0e-4d7a-a350-ec756d882c29",
   "metadata": {},
   "outputs": [
    {
     "name": "stdout",
     "output_type": "stream",
     "text": [
      "Requirement already satisfied: mlxtend in c:\\users\\michael\\anaconda3\\lib\\site-packages (0.23.4)\n",
      "Requirement already satisfied: scipy>=1.2.1 in c:\\users\\michael\\anaconda3\\lib\\site-packages (from mlxtend) (1.15.3)\n",
      "Requirement already satisfied: numpy>=1.16.2 in c:\\users\\michael\\anaconda3\\lib\\site-packages (from mlxtend) (2.1.3)\n",
      "Requirement already satisfied: pandas>=0.24.2 in c:\\users\\michael\\anaconda3\\lib\\site-packages (from mlxtend) (2.2.3)\n",
      "Requirement already satisfied: scikit-learn>=1.3.1 in c:\\users\\michael\\anaconda3\\lib\\site-packages (from mlxtend) (1.6.1)\n",
      "Requirement already satisfied: matplotlib>=3.0.0 in c:\\users\\michael\\anaconda3\\lib\\site-packages (from mlxtend) (3.10.0)\n",
      "Requirement already satisfied: joblib>=0.13.2 in c:\\users\\michael\\anaconda3\\lib\\site-packages (from mlxtend) (1.4.2)\n",
      "Requirement already satisfied: contourpy>=1.0.1 in c:\\users\\michael\\anaconda3\\lib\\site-packages (from matplotlib>=3.0.0->mlxtend) (1.3.1)\n",
      "Requirement already satisfied: cycler>=0.10 in c:\\users\\michael\\anaconda3\\lib\\site-packages (from matplotlib>=3.0.0->mlxtend) (0.11.0)\n",
      "Requirement already satisfied: fonttools>=4.22.0 in c:\\users\\michael\\anaconda3\\lib\\site-packages (from matplotlib>=3.0.0->mlxtend) (4.55.3)\n",
      "Requirement already satisfied: kiwisolver>=1.3.1 in c:\\users\\michael\\anaconda3\\lib\\site-packages (from matplotlib>=3.0.0->mlxtend) (1.4.8)\n",
      "Requirement already satisfied: packaging>=20.0 in c:\\users\\michael\\anaconda3\\lib\\site-packages (from matplotlib>=3.0.0->mlxtend) (24.2)\n",
      "Requirement already satisfied: pillow>=8 in c:\\users\\michael\\anaconda3\\lib\\site-packages (from matplotlib>=3.0.0->mlxtend) (11.1.0)\n",
      "Requirement already satisfied: pyparsing>=2.3.1 in c:\\users\\michael\\anaconda3\\lib\\site-packages (from matplotlib>=3.0.0->mlxtend) (3.2.0)\n",
      "Requirement already satisfied: python-dateutil>=2.7 in c:\\users\\michael\\anaconda3\\lib\\site-packages (from matplotlib>=3.0.0->mlxtend) (2.9.0.post0)\n",
      "Requirement already satisfied: pytz>=2020.1 in c:\\users\\michael\\anaconda3\\lib\\site-packages (from pandas>=0.24.2->mlxtend) (2024.1)\n",
      "Requirement already satisfied: tzdata>=2022.7 in c:\\users\\michael\\anaconda3\\lib\\site-packages (from pandas>=0.24.2->mlxtend) (2025.2)\n",
      "Requirement already satisfied: six>=1.5 in c:\\users\\michael\\anaconda3\\lib\\site-packages (from python-dateutil>=2.7->matplotlib>=3.0.0->mlxtend) (1.17.0)\n",
      "Requirement already satisfied: threadpoolctl>=3.1.0 in c:\\users\\michael\\anaconda3\\lib\\site-packages (from scikit-learn>=1.3.1->mlxtend) (3.5.0)\n"
     ]
    }
   ],
   "source": [
    "!pip install mlxtend"
   ]
  },
  {
   "cell_type": "code",
   "execution_count": 98,
   "id": "660428e6-41b2-401d-9252-cebe39ff5471",
   "metadata": {},
   "outputs": [
    {
     "name": "stdout",
     "output_type": "stream",
     "text": [
      "('loan_amount', 'applicant_income', 'coapplicant_income', 'loan_term', 'age', 'employment_type', 'education', 'married', 'property_area')\n",
      "✅ Model trained with accuracy: 0.86\n"
     ]
    },
    {
     "name": "stderr",
     "output_type": "stream",
     "text": [
      "C:\\Users\\Michael\\anaconda3\\Lib\\site-packages\\mlxtend\\feature_selection\\sequential_feature_selector.py:895: SmallSampleWarning: One or more sample arguments is too small; all returned values will be NaN. See documentation for sample size requirements.\n",
      "  std_err = scipy.stats.sem(ary)\n"
     ]
    },
    {
     "data": {
      "image/png": "[encoded data removed]",
      "text/plain": [
       "<Figure size 640x480 with 1 Axes>"
      ]
     },
     "metadata": {},
     "output_type": "display_data"
    }
   ],
   "source": [
    "import pandas as pd\n",
    "from sklearn.model_selection import train_test_split\n",
    "from sklearn.linear_model import LogisticRegression\n",
    "from sklearn.metrics import accuracy_score\n",
    "import joblib\n",
    "from sklearn.preprocessing import StandardScaler\n",
    "from mlxtend.feature_selection import SequentialFeatureSelector as SFS\n",
    "from mlxtend.plotting import plot_sequential_feature_selection as plot_sfs\n",
    "import matplotlib.pyplot as plt\n",
    "\n",
    "# Load dataset\n",
    "data = pd.read_csv(\"loan_data.csv\")\n",
    "\n",
    "# Map categorical feature to integers\n",
    "data[\"employment_type\"] = data[\"employment_type\"].map({\"Unemployed\": 0, \"Self-Employed\": 1, \"Salaried\": 2})\n",
    "data[\"education\"] = data[\"education\"].map({\"Not Graduate\": 0, \"Graduate\": 1})\n",
    "data[\"married\"] = data[\"married\"].map({\"No\": 0, \"Yes\": 1})\n",
    "data[\"property_area\"] = data[\"property_area\"].map({\"Rural\": 0, \"Semiurban\": 1, \"Urban\": 2})\n",
    "\n",
    "# Features and target\n",
    "feature_columns = [\"loan_amount\", \"applicant_income\", \"coapplicant_income\", \"loan_term\", \"age\", \"employment_type\", \"education\", \"married\", \"property_area\"]\n",
    "\n",
    "X = data[feature_columns]\n",
    "y = data[\"loan_status\"]\n",
    "\n",
    "# Train-test split\n",
    "X_train, X_test, y_train, y_test = train_test_split(X, y, test_size=0.2, random_state=42)\n",
    "\n",
    "scaler = StandardScaler()\n",
    "X_train = scaler.fit_transform(X_train)\n",
    "X_test = scaler.transform(X_test)\n",
    "\n",
    "# Model training\n",
    "model = LogisticRegression(max_iter=5000)\n",
    "model.fit(X_train, y_train)\n",
    "\n",
    "sfs = SFS(model, \n",
    "          k_features=9, \n",
    "          forward=True, \n",
    "          floating=True, \n",
    "          scoring='accuracy', \n",
    "          cv=0)\n",
    "\n",
    "sfs.fit(X, y)\n",
    "\n",
    "# Print the chosen feature names\n",
    "print(sfs.subsets_[9]['feature_names'])\n",
    "# Print the accuracy of the model after sequential forward selection\n",
    "print(f\"✅ Model trained with accuracy: {sfs.subsets_[9]['avg_score']}\")\n",
    "# Plot the model accuracy\n",
    "plot_sfs(sfs.get_metric_dict())\n",
    "plt.show()\n",
    "\n",
    "# # Evaluate model\n",
    "# y_pred = model.predict(X_test)\n",
    "# accuracy = accuracy_score(y_test, y_pred)\n",
    "# print(f\"✅ Model trained with accuracy: {accuracy:.2f}\")"
   ]
  },
  {
   "cell_type": "code",
   "execution_count": 106,
   "id": "30f633d4-1557-4ab0-a028-149212c0b79e",
   "metadata": {},
   "outputs": [
    {
     "name": "stdout",
     "output_type": "stream",
     "text": [
      "('applicant_income', 'coapplicant_income', 'employment_type', 'education', 'property_area')\n",
      "✅ Model trained with accuracy: 0.876\n"
     ]
    },
    {
     "name": "stderr",
     "output_type": "stream",
     "text": [
      "C:\\Users\\Michael\\anaconda3\\Lib\\site-packages\\mlxtend\\feature_selection\\sequential_feature_selector.py:895: SmallSampleWarning: One or more sample arguments is too small; all returned values will be NaN. See documentation for sample size requirements.\n",
      "  std_err = scipy.stats.sem(ary)\n"
     ]
    },
    {
     "data": {
      "image/png": "[encoded data removed]",
      "text/plain": [
       "<Figure size 640x480 with 1 Axes>"
      ]
     },
     "metadata": {},
     "output_type": "display_data"
    }
   ],
   "source": [
    "import pandas as pd\n",
    "from sklearn.model_selection import train_test_split\n",
    "from sklearn.linear_model import LogisticRegression\n",
    "from sklearn.metrics import accuracy_score\n",
    "import joblib\n",
    "from sklearn.preprocessing import StandardScaler\n",
    "from mlxtend.feature_selection import SequentialFeatureSelector as SFS\n",
    "from mlxtend.plotting import plot_sequential_feature_selection as plot_sfs\n",
    "import matplotlib.pyplot as plt\n",
    "\n",
    "# Load dataset\n",
    "data = pd.read_csv(\"loan_data.csv\")\n",
    "\n",
    "# Map categorical feature to integers\n",
    "data[\"employment_type\"] = data[\"employment_type\"].map({\"Unemployed\": 0, \"Self-Employed\": 1, \"Salaried\": 2})\n",
    "data[\"education\"] = data[\"education\"].map({\"Not Graduate\": 0, \"Graduate\": 1})\n",
    "data[\"married\"] = data[\"married\"].map({\"No\": 0, \"Yes\": 1})\n",
    "data[\"property_area\"] = data[\"property_area\"].map({\"Rural\": 0, \"Semiurban\": 1, \"Urban\": 2})\n",
    "\n",
    "# Features and target\n",
    "feature_columns = [\"loan_amount\", \"applicant_income\", \"coapplicant_income\", \"loan_term\", \"age\", \"employment_type\", \"education\", \"married\", \"property_area\"]\n",
    "\n",
    "X = data[feature_columns]\n",
    "y = data[\"loan_status\"]\n",
    "\n",
    "# Train-test split\n",
    "X_train, X_test, y_train, y_test = train_test_split(X, y, test_size=0.2, random_state=42)\n",
    "\n",
    "scaler = StandardScaler()\n",
    "X_train = scaler.fit_transform(X_train)\n",
    "X_test = scaler.transform(X_test)\n",
    "\n",
    "# Model training\n",
    "model = LogisticRegression(max_iter=200)\n",
    "model.fit(X_train, y_train)\n",
    "\n",
    "sfs = SFS(model, \n",
    "          k_features=5, \n",
    "          forward=True, \n",
    "          floating=True, \n",
    "          scoring='accuracy', \n",
    "          cv=0)\n",
    "\n",
    "sfs.fit(X, y)\n",
    "\n",
    "# Print the chosen feature names\n",
    "print(sfs.subsets_[5]['feature_names'])\n",
    "# Print the accuracy of the model after sequential forward selection\n",
    "print(f\"✅ Model trained with accuracy: {sfs.subsets_[5]['avg_score']}\")\n",
    "# Plot the model accuracy\n",
    "plot_sfs(sfs.get_metric_dict())\n",
    "plt.show()\n",
    "\n",
    "# # Evaluate model\n",
    "# y_pred = model.predict(X_test)\n",
    "# accuracy = accuracy_score(y_test, y_pred)\n",
    "# print(f\"✅ Model trained with accuracy: {accuracy:.2f}\")"
   ]
  },
  {
   "cell_type": "code",
   "execution_count": null,
   "id": "429b866c-2133-431c-bade-aa894ec0f182",
   "metadata": {},
   "outputs": [],
   "source": []
  }
 ],
 "metadata": {
  "kernelspec": {
   "display_name": "Python [conda env:base] *",
   "language": "python",
   "name": "conda-base-py"
  },
  "language_info": {
   "codemirror_mode": {
    "name": "ipython",
    "version": 3
   },
   "file_extension": ".py",
   "mimetype": "text/x-python",
   "name": "python",
   "nbconvert_exporter": "python",
   "pygments_lexer": "ipython3",
   "version": "3.13.5"
  }
 },
 "nbformat": 4,
 "nbformat_minor": 5
}
